{
  "nbformat": 4,
  "nbformat_minor": 0,
  "metadata": {
    "colab": {
      "provenance": []
    },
    "kernelspec": {
      "name": "python3",
      "display_name": "Python 3"
    },
    "language_info": {
      "name": "python"
    }
  },
  "cells": [
    {
      "cell_type": "code",
      "execution_count": null,
      "metadata": {
        "id": "mFlCFJL5Jkr4"
      },
      "outputs": [],
      "source": [
        "import numpy as np\n",
        "import pandas as pd\n",
        "import tensorflow as tf\n",
        "from sklearn.model_selection import train_test_split\n",
        "from sklearn.preprocessing import StandardScaler\n",
        "from sklearn.metrics import accuracy_score"
      ]
    },
    {
      "cell_type": "code",
      "source": [
        "# Load the diabetes dataset to a pandas DataFrame\n",
        "diabetes_dataset = pd.read_csv('diabetes.csv')\n",
        "\n",
        "# Print the first 5 rows of the dataset\n",
        "print(diabetes_dataset.head())\n",
        "\n",
        "# Get the number of rows and columns in this dataset\n",
        "print(diabetes_dataset.shape)\n",
        "\n",
        "# Get the statistical measures of the data\n",
        "print(diabetes_dataset.describe())\n",
        "\n",
        "# Get the distribution of the Outcome\n",
        "print(diabetes_dataset['Outcome'].value_counts())\n",
        "\n",
        "# Group by Outcome and calculate mean for each group\n",
        "print(diabetes_dataset.groupby('Outcome').mean())\n"
      ],
      "metadata": {
        "colab": {
          "base_uri": "https://localhost:8080/"
        },
        "id": "m5o0I1DzKKTp",
        "outputId": "ae0b767d-04df-4508-d601-8830b4b44ed2"
      },
      "execution_count": null,
      "outputs": [
        {
          "output_type": "stream",
          "name": "stdout",
          "text": [
            "   Pregnancies  Glucose  BloodPressure  SkinThickness  Insulin   BMI  \\\n",
            "0            6      148             72             35        0  33.6   \n",
            "1            1       85             66             29        0  26.6   \n",
            "2            8      183             64              0        0  23.3   \n",
            "3            1       89             66             23       94  28.1   \n",
            "4            0      137             40             35      168  43.1   \n",
            "\n",
            "   DiabetesPedigreeFunction  Age  Outcome  \n",
            "0                     0.627   50        1  \n",
            "1                     0.351   31        0  \n",
            "2                     0.672   32        1  \n",
            "3                     0.167   21        0  \n",
            "4                     2.288   33        1  \n",
            "(768, 9)\n",
            "       Pregnancies     Glucose  BloodPressure  SkinThickness     Insulin  \\\n",
            "count   768.000000  768.000000     768.000000     768.000000  768.000000   \n",
            "mean      3.845052  120.894531      69.105469      20.536458   79.799479   \n",
            "std       3.369578   31.972618      19.355807      15.952218  115.244002   \n",
            "min       0.000000    0.000000       0.000000       0.000000    0.000000   \n",
            "25%       1.000000   99.000000      62.000000       0.000000    0.000000   \n",
            "50%       3.000000  117.000000      72.000000      23.000000   30.500000   \n",
            "75%       6.000000  140.250000      80.000000      32.000000  127.250000   \n",
            "max      17.000000  199.000000     122.000000      99.000000  846.000000   \n",
            "\n",
            "              BMI  DiabetesPedigreeFunction         Age     Outcome  \n",
            "count  768.000000                768.000000  768.000000  768.000000  \n",
            "mean    31.992578                  0.471876   33.240885    0.348958  \n",
            "std      7.884160                  0.331329   11.760232    0.476951  \n",
            "min      0.000000                  0.078000   21.000000    0.000000  \n",
            "25%     27.300000                  0.243750   24.000000    0.000000  \n",
            "50%     32.000000                  0.372500   29.000000    0.000000  \n",
            "75%     36.600000                  0.626250   41.000000    1.000000  \n",
            "max     67.100000                  2.420000   81.000000    1.000000  \n",
            "Outcome\n",
            "0    500\n",
            "1    268\n",
            "Name: count, dtype: int64\n",
            "         Pregnancies     Glucose  BloodPressure  SkinThickness     Insulin  \\\n",
            "Outcome                                                                      \n",
            "0           3.298000  109.980000      68.184000      19.664000   68.792000   \n",
            "1           4.865672  141.257463      70.824627      22.164179  100.335821   \n",
            "\n",
            "               BMI  DiabetesPedigreeFunction        Age  \n",
            "Outcome                                                  \n",
            "0        30.304200                  0.429734  31.190000  \n",
            "1        35.142537                  0.550500  37.067164  \n"
          ]
        }
      ]
    },
    {
      "cell_type": "code",
      "source": [
        "# Separate the data and labels\n",
        "X = diabetes_dataset.drop(columns='Outcome', axis=1)\n",
        "Y = diabetes_dataset['Outcome']\n",
        "\n",
        "# Split the data into training and testing sets\n",
        "X_train, X_test, Y_train, Y_test = train_test_split(X, Y, test_size=0.2, stratify=Y, random_state=2)\n",
        "\n",
        "# Standardize the data\n",
        "scaler = StandardScaler()\n",
        "X_train = scaler.fit_transform(X_train)\n",
        "X_test = scaler.transform(X_test)\n"
      ],
      "metadata": {
        "id": "M5t-tp-tK-6g"
      },
      "execution_count": null,
      "outputs": []
    },
    {
      "cell_type": "code",
      "source": [
        "# Define the DNN model\n",
        "model = tf.keras.models.Sequential([\n",
        "    tf.keras.layers.Dense(16, activation='relu', input_shape=(X_train.shape[1],)),\n",
        "    tf.keras.layers.Dense(16, activation='relu'),\n",
        "    tf.keras.layers.Dense(1, activation='sigmoid')\n",
        "])\n",
        "\n",
        "# Compile the model\n",
        "model.compile(optimizer='adam', loss='binary_crossentropy', metrics=['accuracy'])\n",
        "\n",
        "# Train the model\n",
        "history = model.fit(X_train, Y_train, epochs=100, validation_split=0.2, batch_size=32)\n"
      ],
      "metadata": {
        "colab": {
          "base_uri": "https://localhost:8080/"
        },
        "id": "mpoyhvylLBZO",
        "outputId": "4bc47b6e-c03c-4989-bb2b-db47f2f0c3a2"
      },
      "execution_count": null,
      "outputs": [
        {
          "output_type": "stream",
          "name": "stdout",
          "text": [
            "Epoch 1/100\n",
            "16/16 [==============================] - 4s 47ms/step - loss: 0.6733 - accuracy: 0.6354 - val_loss: 0.6505 - val_accuracy: 0.5935\n",
            "Epoch 2/100\n",
            "16/16 [==============================] - 0s 6ms/step - loss: 0.6433 - accuracy: 0.6762 - val_loss: 0.6326 - val_accuracy: 0.6504\n",
            "Epoch 3/100\n",
            "16/16 [==============================] - 0s 6ms/step - loss: 0.6207 - accuracy: 0.7026 - val_loss: 0.6129 - val_accuracy: 0.6667\n",
            "Epoch 4/100\n",
            "16/16 [==============================] - 0s 5ms/step - loss: 0.5973 - accuracy: 0.7291 - val_loss: 0.5953 - val_accuracy: 0.6748\n",
            "Epoch 5/100\n",
            "16/16 [==============================] - 0s 4ms/step - loss: 0.5756 - accuracy: 0.7413 - val_loss: 0.5785 - val_accuracy: 0.7073\n",
            "Epoch 6/100\n",
            "16/16 [==============================] - 0s 5ms/step - loss: 0.5553 - accuracy: 0.7597 - val_loss: 0.5645 - val_accuracy: 0.7317\n",
            "Epoch 7/100\n",
            "16/16 [==============================] - 0s 5ms/step - loss: 0.5368 - accuracy: 0.7719 - val_loss: 0.5509 - val_accuracy: 0.7317\n",
            "Epoch 8/100\n",
            "16/16 [==============================] - 0s 5ms/step - loss: 0.5205 - accuracy: 0.7780 - val_loss: 0.5397 - val_accuracy: 0.7398\n",
            "Epoch 9/100\n",
            "16/16 [==============================] - 0s 5ms/step - loss: 0.5070 - accuracy: 0.7841 - val_loss: 0.5295 - val_accuracy: 0.7398\n",
            "Epoch 10/100\n",
            "16/16 [==============================] - 0s 5ms/step - loss: 0.4944 - accuracy: 0.7821 - val_loss: 0.5226 - val_accuracy: 0.7480\n",
            "Epoch 11/100\n",
            "16/16 [==============================] - 0s 4ms/step - loss: 0.4841 - accuracy: 0.7821 - val_loss: 0.5165 - val_accuracy: 0.7480\n",
            "Epoch 12/100\n",
            "16/16 [==============================] - 0s 5ms/step - loss: 0.4765 - accuracy: 0.7821 - val_loss: 0.5120 - val_accuracy: 0.7398\n",
            "Epoch 13/100\n",
            "16/16 [==============================] - 0s 5ms/step - loss: 0.4696 - accuracy: 0.7800 - val_loss: 0.5075 - val_accuracy: 0.7480\n",
            "Epoch 14/100\n",
            "16/16 [==============================] - 0s 4ms/step - loss: 0.4633 - accuracy: 0.7800 - val_loss: 0.5040 - val_accuracy: 0.7480\n",
            "Epoch 15/100\n",
            "16/16 [==============================] - 0s 5ms/step - loss: 0.4583 - accuracy: 0.7862 - val_loss: 0.5014 - val_accuracy: 0.7480\n",
            "Epoch 16/100\n",
            "16/16 [==============================] - 0s 5ms/step - loss: 0.4537 - accuracy: 0.7882 - val_loss: 0.4985 - val_accuracy: 0.7480\n",
            "Epoch 17/100\n",
            "16/16 [==============================] - 0s 6ms/step - loss: 0.4501 - accuracy: 0.7923 - val_loss: 0.4963 - val_accuracy: 0.7561\n",
            "Epoch 18/100\n",
            "16/16 [==============================] - 0s 6ms/step - loss: 0.4465 - accuracy: 0.7923 - val_loss: 0.4940 - val_accuracy: 0.7480\n",
            "Epoch 19/100\n",
            "16/16 [==============================] - 0s 5ms/step - loss: 0.4436 - accuracy: 0.7943 - val_loss: 0.4930 - val_accuracy: 0.7480\n",
            "Epoch 20/100\n",
            "16/16 [==============================] - 0s 6ms/step - loss: 0.4411 - accuracy: 0.7984 - val_loss: 0.4931 - val_accuracy: 0.7480\n",
            "Epoch 21/100\n",
            "16/16 [==============================] - 0s 4ms/step - loss: 0.4386 - accuracy: 0.8004 - val_loss: 0.4931 - val_accuracy: 0.7561\n",
            "Epoch 22/100\n",
            "16/16 [==============================] - 0s 4ms/step - loss: 0.4366 - accuracy: 0.7963 - val_loss: 0.4888 - val_accuracy: 0.7561\n",
            "Epoch 23/100\n",
            "16/16 [==============================] - 0s 4ms/step - loss: 0.4332 - accuracy: 0.8004 - val_loss: 0.4894 - val_accuracy: 0.7561\n",
            "Epoch 24/100\n",
            "16/16 [==============================] - 0s 4ms/step - loss: 0.4312 - accuracy: 0.7963 - val_loss: 0.4908 - val_accuracy: 0.7642\n",
            "Epoch 25/100\n",
            "16/16 [==============================] - 0s 4ms/step - loss: 0.4287 - accuracy: 0.7984 - val_loss: 0.4888 - val_accuracy: 0.7398\n",
            "Epoch 26/100\n",
            "16/16 [==============================] - 0s 4ms/step - loss: 0.4261 - accuracy: 0.8004 - val_loss: 0.4893 - val_accuracy: 0.7480\n",
            "Epoch 27/100\n",
            "16/16 [==============================] - 0s 5ms/step - loss: 0.4243 - accuracy: 0.8024 - val_loss: 0.4899 - val_accuracy: 0.7561\n",
            "Epoch 28/100\n",
            "16/16 [==============================] - 0s 4ms/step - loss: 0.4225 - accuracy: 0.8045 - val_loss: 0.4890 - val_accuracy: 0.7480\n",
            "Epoch 29/100\n",
            "16/16 [==============================] - 0s 5ms/step - loss: 0.4218 - accuracy: 0.8024 - val_loss: 0.4933 - val_accuracy: 0.7561\n",
            "Epoch 30/100\n",
            "16/16 [==============================] - 0s 6ms/step - loss: 0.4191 - accuracy: 0.8045 - val_loss: 0.4923 - val_accuracy: 0.7480\n",
            "Epoch 31/100\n",
            "16/16 [==============================] - 0s 5ms/step - loss: 0.4176 - accuracy: 0.8045 - val_loss: 0.4911 - val_accuracy: 0.7480\n",
            "Epoch 32/100\n",
            "16/16 [==============================] - 0s 4ms/step - loss: 0.4151 - accuracy: 0.8065 - val_loss: 0.4918 - val_accuracy: 0.7398\n",
            "Epoch 33/100\n",
            "16/16 [==============================] - 0s 5ms/step - loss: 0.4135 - accuracy: 0.8065 - val_loss: 0.4924 - val_accuracy: 0.7480\n",
            "Epoch 34/100\n",
            "16/16 [==============================] - 0s 4ms/step - loss: 0.4120 - accuracy: 0.8045 - val_loss: 0.4929 - val_accuracy: 0.7561\n",
            "Epoch 35/100\n",
            "16/16 [==============================] - 0s 5ms/step - loss: 0.4109 - accuracy: 0.8065 - val_loss: 0.4919 - val_accuracy: 0.7561\n",
            "Epoch 36/100\n",
            "16/16 [==============================] - 0s 4ms/step - loss: 0.4093 - accuracy: 0.8126 - val_loss: 0.4922 - val_accuracy: 0.7642\n",
            "Epoch 37/100\n",
            "16/16 [==============================] - 0s 5ms/step - loss: 0.4084 - accuracy: 0.8106 - val_loss: 0.4928 - val_accuracy: 0.7642\n",
            "Epoch 38/100\n",
            "16/16 [==============================] - 0s 5ms/step - loss: 0.4077 - accuracy: 0.8106 - val_loss: 0.4950 - val_accuracy: 0.7561\n",
            "Epoch 39/100\n",
            "16/16 [==============================] - 0s 5ms/step - loss: 0.4052 - accuracy: 0.8147 - val_loss: 0.4946 - val_accuracy: 0.7642\n",
            "Epoch 40/100\n",
            "16/16 [==============================] - 0s 5ms/step - loss: 0.4040 - accuracy: 0.8147 - val_loss: 0.4955 - val_accuracy: 0.7642\n",
            "Epoch 41/100\n",
            "16/16 [==============================] - 0s 4ms/step - loss: 0.4025 - accuracy: 0.8147 - val_loss: 0.4941 - val_accuracy: 0.7642\n",
            "Epoch 42/100\n",
            "16/16 [==============================] - 0s 5ms/step - loss: 0.4013 - accuracy: 0.8147 - val_loss: 0.4943 - val_accuracy: 0.7642\n",
            "Epoch 43/100\n",
            "16/16 [==============================] - 0s 5ms/step - loss: 0.4011 - accuracy: 0.8147 - val_loss: 0.4942 - val_accuracy: 0.7398\n",
            "Epoch 44/100\n",
            "16/16 [==============================] - 0s 5ms/step - loss: 0.3994 - accuracy: 0.8147 - val_loss: 0.4952 - val_accuracy: 0.7398\n",
            "Epoch 45/100\n",
            "16/16 [==============================] - 0s 4ms/step - loss: 0.3984 - accuracy: 0.8187 - val_loss: 0.4976 - val_accuracy: 0.7398\n",
            "Epoch 46/100\n",
            "16/16 [==============================] - 0s 5ms/step - loss: 0.3973 - accuracy: 0.8126 - val_loss: 0.4974 - val_accuracy: 0.7561\n",
            "Epoch 47/100\n",
            "16/16 [==============================] - 0s 4ms/step - loss: 0.3957 - accuracy: 0.8126 - val_loss: 0.4972 - val_accuracy: 0.7561\n",
            "Epoch 48/100\n",
            "16/16 [==============================] - 0s 4ms/step - loss: 0.3949 - accuracy: 0.8147 - val_loss: 0.4979 - val_accuracy: 0.7398\n",
            "Epoch 49/100\n",
            "16/16 [==============================] - 0s 4ms/step - loss: 0.3943 - accuracy: 0.8187 - val_loss: 0.4963 - val_accuracy: 0.7480\n",
            "Epoch 50/100\n",
            "16/16 [==============================] - 0s 4ms/step - loss: 0.3935 - accuracy: 0.8208 - val_loss: 0.4983 - val_accuracy: 0.7561\n",
            "Epoch 51/100\n",
            "16/16 [==============================] - 0s 4ms/step - loss: 0.3917 - accuracy: 0.8167 - val_loss: 0.4993 - val_accuracy: 0.7480\n",
            "Epoch 52/100\n",
            "16/16 [==============================] - 0s 4ms/step - loss: 0.3913 - accuracy: 0.8187 - val_loss: 0.4990 - val_accuracy: 0.7480\n",
            "Epoch 53/100\n",
            "16/16 [==============================] - 0s 5ms/step - loss: 0.3904 - accuracy: 0.8187 - val_loss: 0.4970 - val_accuracy: 0.7398\n",
            "Epoch 54/100\n",
            "16/16 [==============================] - 0s 4ms/step - loss: 0.3895 - accuracy: 0.8208 - val_loss: 0.4958 - val_accuracy: 0.7480\n",
            "Epoch 55/100\n",
            "16/16 [==============================] - 0s 4ms/step - loss: 0.3891 - accuracy: 0.8208 - val_loss: 0.4968 - val_accuracy: 0.7561\n",
            "Epoch 56/100\n",
            "16/16 [==============================] - 0s 5ms/step - loss: 0.3876 - accuracy: 0.8228 - val_loss: 0.4976 - val_accuracy: 0.7480\n",
            "Epoch 57/100\n",
            "16/16 [==============================] - 0s 5ms/step - loss: 0.3868 - accuracy: 0.8228 - val_loss: 0.4970 - val_accuracy: 0.7480\n",
            "Epoch 58/100\n",
            "16/16 [==============================] - 0s 5ms/step - loss: 0.3865 - accuracy: 0.8187 - val_loss: 0.4991 - val_accuracy: 0.7480\n",
            "Epoch 59/100\n",
            "16/16 [==============================] - 0s 4ms/step - loss: 0.3851 - accuracy: 0.8208 - val_loss: 0.5009 - val_accuracy: 0.7480\n",
            "Epoch 60/100\n",
            "16/16 [==============================] - 0s 5ms/step - loss: 0.3843 - accuracy: 0.8269 - val_loss: 0.4983 - val_accuracy: 0.7480\n",
            "Epoch 61/100\n",
            "16/16 [==============================] - 0s 5ms/step - loss: 0.3841 - accuracy: 0.8289 - val_loss: 0.4997 - val_accuracy: 0.7480\n",
            "Epoch 62/100\n",
            "16/16 [==============================] - 0s 4ms/step - loss: 0.3827 - accuracy: 0.8248 - val_loss: 0.5014 - val_accuracy: 0.7480\n",
            "Epoch 63/100\n",
            "16/16 [==============================] - 0s 4ms/step - loss: 0.3817 - accuracy: 0.8208 - val_loss: 0.5001 - val_accuracy: 0.7480\n",
            "Epoch 64/100\n",
            "16/16 [==============================] - 0s 5ms/step - loss: 0.3809 - accuracy: 0.8289 - val_loss: 0.4980 - val_accuracy: 0.7480\n",
            "Epoch 65/100\n",
            "16/16 [==============================] - 0s 4ms/step - loss: 0.3806 - accuracy: 0.8289 - val_loss: 0.4991 - val_accuracy: 0.7480\n",
            "Epoch 66/100\n",
            "16/16 [==============================] - 0s 5ms/step - loss: 0.3801 - accuracy: 0.8310 - val_loss: 0.5016 - val_accuracy: 0.7480\n",
            "Epoch 67/100\n",
            "16/16 [==============================] - 0s 5ms/step - loss: 0.3787 - accuracy: 0.8310 - val_loss: 0.5011 - val_accuracy: 0.7480\n",
            "Epoch 68/100\n",
            "16/16 [==============================] - 0s 5ms/step - loss: 0.3778 - accuracy: 0.8310 - val_loss: 0.5002 - val_accuracy: 0.7480\n",
            "Epoch 69/100\n",
            "16/16 [==============================] - 0s 5ms/step - loss: 0.3773 - accuracy: 0.8310 - val_loss: 0.5006 - val_accuracy: 0.7398\n",
            "Epoch 70/100\n",
            "16/16 [==============================] - 0s 5ms/step - loss: 0.3781 - accuracy: 0.8289 - val_loss: 0.4992 - val_accuracy: 0.7480\n",
            "Epoch 71/100\n",
            "16/16 [==============================] - 0s 4ms/step - loss: 0.3755 - accuracy: 0.8310 - val_loss: 0.5038 - val_accuracy: 0.7480\n",
            "Epoch 72/100\n",
            "16/16 [==============================] - 0s 5ms/step - loss: 0.3762 - accuracy: 0.8228 - val_loss: 0.5059 - val_accuracy: 0.7480\n",
            "Epoch 73/100\n",
            "16/16 [==============================] - 0s 6ms/step - loss: 0.3739 - accuracy: 0.8350 - val_loss: 0.5027 - val_accuracy: 0.7480\n",
            "Epoch 74/100\n",
            "16/16 [==============================] - 0s 4ms/step - loss: 0.3736 - accuracy: 0.8330 - val_loss: 0.5021 - val_accuracy: 0.7398\n",
            "Epoch 75/100\n",
            "16/16 [==============================] - 0s 5ms/step - loss: 0.3736 - accuracy: 0.8289 - val_loss: 0.5014 - val_accuracy: 0.7398\n",
            "Epoch 76/100\n",
            "16/16 [==============================] - 0s 4ms/step - loss: 0.3747 - accuracy: 0.8289 - val_loss: 0.5073 - val_accuracy: 0.7561\n",
            "Epoch 77/100\n",
            "16/16 [==============================] - 0s 4ms/step - loss: 0.3710 - accuracy: 0.8371 - val_loss: 0.5032 - val_accuracy: 0.7480\n",
            "Epoch 78/100\n",
            "16/16 [==============================] - 0s 4ms/step - loss: 0.3709 - accuracy: 0.8310 - val_loss: 0.5022 - val_accuracy: 0.7480\n",
            "Epoch 79/100\n",
            "16/16 [==============================] - 0s 4ms/step - loss: 0.3692 - accuracy: 0.8330 - val_loss: 0.5055 - val_accuracy: 0.7398\n",
            "Epoch 80/100\n",
            "16/16 [==============================] - 0s 5ms/step - loss: 0.3689 - accuracy: 0.8371 - val_loss: 0.5067 - val_accuracy: 0.7561\n",
            "Epoch 81/100\n",
            "16/16 [==============================] - 0s 5ms/step - loss: 0.3674 - accuracy: 0.8350 - val_loss: 0.5045 - val_accuracy: 0.7480\n",
            "Epoch 82/100\n",
            "16/16 [==============================] - 0s 7ms/step - loss: 0.3668 - accuracy: 0.8350 - val_loss: 0.5048 - val_accuracy: 0.7561\n",
            "Epoch 83/100\n",
            "16/16 [==============================] - 0s 5ms/step - loss: 0.3659 - accuracy: 0.8330 - val_loss: 0.5047 - val_accuracy: 0.7561\n",
            "Epoch 84/100\n",
            "16/16 [==============================] - 0s 4ms/step - loss: 0.3656 - accuracy: 0.8371 - val_loss: 0.5057 - val_accuracy: 0.7561\n",
            "Epoch 85/100\n",
            "16/16 [==============================] - 0s 4ms/step - loss: 0.3649 - accuracy: 0.8391 - val_loss: 0.5052 - val_accuracy: 0.7480\n",
            "Epoch 86/100\n",
            "16/16 [==============================] - 0s 6ms/step - loss: 0.3640 - accuracy: 0.8411 - val_loss: 0.5062 - val_accuracy: 0.7561\n",
            "Epoch 87/100\n",
            "16/16 [==============================] - 0s 5ms/step - loss: 0.3646 - accuracy: 0.8330 - val_loss: 0.5061 - val_accuracy: 0.7398\n",
            "Epoch 88/100\n",
            "16/16 [==============================] - 0s 4ms/step - loss: 0.3618 - accuracy: 0.8391 - val_loss: 0.5070 - val_accuracy: 0.7561\n",
            "Epoch 89/100\n",
            "16/16 [==============================] - 0s 4ms/step - loss: 0.3617 - accuracy: 0.8411 - val_loss: 0.5066 - val_accuracy: 0.7561\n",
            "Epoch 90/100\n",
            "16/16 [==============================] - 0s 5ms/step - loss: 0.3609 - accuracy: 0.8452 - val_loss: 0.5073 - val_accuracy: 0.7561\n",
            "Epoch 91/100\n",
            "16/16 [==============================] - 0s 4ms/step - loss: 0.3596 - accuracy: 0.8473 - val_loss: 0.5046 - val_accuracy: 0.7561\n",
            "Epoch 92/100\n",
            "16/16 [==============================] - 0s 6ms/step - loss: 0.3593 - accuracy: 0.8432 - val_loss: 0.5066 - val_accuracy: 0.7480\n",
            "Epoch 93/100\n",
            "16/16 [==============================] - 0s 17ms/step - loss: 0.3584 - accuracy: 0.8432 - val_loss: 0.5077 - val_accuracy: 0.7480\n",
            "Epoch 94/100\n",
            "16/16 [==============================] - 0s 6ms/step - loss: 0.3581 - accuracy: 0.8513 - val_loss: 0.5094 - val_accuracy: 0.7398\n",
            "Epoch 95/100\n",
            "16/16 [==============================] - 0s 10ms/step - loss: 0.3576 - accuracy: 0.8432 - val_loss: 0.5081 - val_accuracy: 0.7398\n",
            "Epoch 96/100\n",
            "16/16 [==============================] - 0s 11ms/step - loss: 0.3562 - accuracy: 0.8493 - val_loss: 0.5068 - val_accuracy: 0.7561\n",
            "Epoch 97/100\n",
            "16/16 [==============================] - 0s 8ms/step - loss: 0.3568 - accuracy: 0.8432 - val_loss: 0.5093 - val_accuracy: 0.7480\n",
            "Epoch 98/100\n",
            "16/16 [==============================] - 0s 8ms/step - loss: 0.3552 - accuracy: 0.8452 - val_loss: 0.5079 - val_accuracy: 0.7561\n",
            "Epoch 99/100\n",
            "16/16 [==============================] - 0s 5ms/step - loss: 0.3542 - accuracy: 0.8493 - val_loss: 0.5091 - val_accuracy: 0.7317\n",
            "Epoch 100/100\n",
            "16/16 [==============================] - 0s 4ms/step - loss: 0.3555 - accuracy: 0.8432 - val_loss: 0.5087 - val_accuracy: 0.7561\n"
          ]
        }
      ]
    },
    {
      "cell_type": "code",
      "source": [
        "# Evaluate the model on the test data\n",
        "test_loss, test_accuracy = model.evaluate(X_test, Y_test)\n",
        "print('Test accuracy:', test_accuracy)\n",
        "\n",
        "# Predict on the test data\n",
        "Y_pred = (model.predict(X_test) > 0.5).astype(\"int32\")\n",
        "print('Accuracy score on test data:', accuracy_score(Y_test, Y_pred))"
      ],
      "metadata": {
        "colab": {
          "base_uri": "https://localhost:8080/"
        },
        "id": "3nf6a7MsLK56",
        "outputId": "905217ec-e8cc-4a38-aa6e-f7b07d457773"
      },
      "execution_count": null,
      "outputs": [
        {
          "output_type": "stream",
          "name": "stdout",
          "text": [
            "5/5 [==============================] - 0s 6ms/step - loss: 0.5398 - accuracy: 0.7403\n",
            "Test accuracy: 0.7402597665786743\n",
            "5/5 [==============================] - 0s 3ms/step\n",
            "Accuracy score on test data: 0.7402597402597403\n"
          ]
        }
      ]
    },
    {
      "cell_type": "code",
      "source": [
        "def predict_diabetes(input_data):\n",
        "    # Convert the input data to a numpy array\n",
        "    input_data_as_numpy_array = np.asarray(input_data)\n",
        "    # Reshape the array as we are predicting for one instance\n",
        "    input_data_reshaped = input_data_as_numpy_array.reshape(1, -1)\n",
        "    # Standardize the input data\n",
        "    input_data_reshaped = scaler.transform(input_data_reshaped)\n",
        "    # Make prediction\n",
        "    prediction = (model.predict(input_data_reshaped) > 0.5).astype(\"int32\")\n",
        "    if prediction[0][0] == 0:\n",
        "        print('The person is not diabetic')\n",
        "    else:\n",
        "        print('The person is diabetic')\n",
        "\n",
        "# Test the predictive system\n",
        "input_data = (5, 166, 72, 19, 175, 25.8, 0.587, 51)\n",
        "predict_diabetes(input_data)\n"
      ],
      "metadata": {
        "colab": {
          "base_uri": "https://localhost:8080/"
        },
        "id": "EHaXu81gLPZH",
        "outputId": "08c1050e-b541-42dc-acc2-b1c845d52682"
      },
      "execution_count": null,
      "outputs": [
        {
          "output_type": "stream",
          "name": "stdout",
          "text": [
            "1/1 [==============================] - 0s 40ms/step\n",
            "The person is diabetic\n"
          ]
        },
        {
          "output_type": "stream",
          "name": "stderr",
          "text": [
            "/usr/local/lib/python3.10/dist-packages/sklearn/base.py:439: UserWarning: X does not have valid feature names, but StandardScaler was fitted with feature names\n",
            "  warnings.warn(\n"
          ]
        }
      ]
    },
    {
      "cell_type": "code",
      "source": [
        "# Save the model\n",
        "model.save('diabetes_dnn_model.h5')\n",
        "\n",
        "# Load the model\n",
        "loaded_model = tf.keras.models.load_model('diabetes_dnn_model.h5')\n",
        "\n",
        "# Test the loaded model\n",
        "predict_diabetes(input_data)\n"
      ],
      "metadata": {
        "colab": {
          "base_uri": "https://localhost:8080/"
        },
        "id": "4Fsc0T0sLRax",
        "outputId": "1c9b8a4f-b4cc-4d1d-80b6-4c28fec17023"
      },
      "execution_count": null,
      "outputs": [
        {
          "output_type": "stream",
          "name": "stderr",
          "text": [
            "/usr/local/lib/python3.10/dist-packages/keras/src/engine/training.py:3103: UserWarning: You are saving your model as an HDF5 file via `model.save()`. This file format is considered legacy. We recommend using instead the native Keras format, e.g. `model.save('my_model.keras')`.\n",
            "  saving_api.save_model(\n",
            "/usr/local/lib/python3.10/dist-packages/sklearn/base.py:439: UserWarning: X does not have valid feature names, but StandardScaler was fitted with feature names\n",
            "  warnings.warn(\n"
          ]
        },
        {
          "output_type": "stream",
          "name": "stdout",
          "text": [
            "1/1 [==============================] - 0s 59ms/step\n",
            "The person is diabetic\n"
          ]
        }
      ]
    },
    {
      "cell_type": "code",
      "source": [],
      "metadata": {
        "id": "C4pKGE5sLTrK"
      },
      "execution_count": null,
      "outputs": []
    }
  ]
}